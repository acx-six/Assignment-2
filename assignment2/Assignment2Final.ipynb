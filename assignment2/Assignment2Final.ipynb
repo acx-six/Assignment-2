{
 "cells": [
  {
   "cell_type": "markdown",
   "id": "16e5bd06-c0f8-45e6-9d97-533dc68810b1",
   "metadata": {},
   "source": [
    "# **Import Necessary Libraries**"
   ]
  },
  {
   "cell_type": "code",
   "execution_count": 3,
   "id": "60e4beac-d45b-4114-b4a1-7e5be3605ae1",
   "metadata": {},
   "outputs": [],
   "source": [
    "import numpy as np\n",
    "import pandas as pd\n",
    "import matplotlib.pyplot as plt\n",
    "from sklearn.linear_model import LinearRegression, Ridge\n",
    "from sklearn.model_selection import train_test_split\n",
    "from sklearn.preprocessing import StandardScaler\n",
    "from sklearn.metrics import mean_squared_error, r2_score\n"
   ]
  },
  {
   "cell_type": "markdown",
   "id": "518f5f4e-cadc-4bfe-8345-e453638824b1",
   "metadata": {},
   "source": [
    "# **Load the Dataset**"
   ]
  },
  {
   "cell_type": "code",
   "execution_count": null,
   "id": "71ef2e5c-3647-442c-84a1-3e66ca86752f",
   "metadata": {},
   "outputs": [
    {
     "data": {
      "text/html": [
       "<div>\n",
       "<style scoped>\n",
       "    .dataframe tbody tr th:only-of-type {\n",
       "        vertical-align: middle;\n",
       "    }\n",
       "\n",
       "    .dataframe tbody tr th {\n",
       "        vertical-align: top;\n",
       "    }\n",
       "\n",
       "    .dataframe thead th {\n",
       "        text-align: right;\n",
       "    }\n",
       "</style>\n",
       "<table border=\"1\" class=\"dataframe\">\n",
       "  <thead>\n",
       "    <tr style=\"text-align: right;\">\n",
       "      <th></th>\n",
       "      <th>X1</th>\n",
       "      <th>X2</th>\n",
       "      <th>X3</th>\n",
       "      <th>X4</th>\n",
       "      <th>X5</th>\n",
       "      <th>X6</th>\n",
       "      <th>X7</th>\n",
       "      <th>X8</th>\n",
       "      <th>Y1</th>\n",
       "      <th>Y2</th>\n",
       "    </tr>\n",
       "  </thead>\n",
       "  <tbody>\n",
       "    <tr>\n",
       "      <th>0</th>\n",
       "      <td>0.98</td>\n",
       "      <td>514.5</td>\n",
       "      <td>294.0</td>\n",
       "      <td>110.25</td>\n",
       "      <td>7.0</td>\n",
       "      <td>2</td>\n",
       "      <td>0.0</td>\n",
       "      <td>0</td>\n",
       "      <td>15.55</td>\n",
       "      <td>21.33</td>\n",
       "    </tr>\n",
       "    <tr>\n",
       "      <th>1</th>\n",
       "      <td>0.98</td>\n",
       "      <td>514.5</td>\n",
       "      <td>294.0</td>\n",
       "      <td>110.25</td>\n",
       "      <td>7.0</td>\n",
       "      <td>3</td>\n",
       "      <td>0.0</td>\n",
       "      <td>0</td>\n",
       "      <td>15.55</td>\n",
       "      <td>21.33</td>\n",
       "    </tr>\n",
       "    <tr>\n",
       "      <th>2</th>\n",
       "      <td>0.98</td>\n",
       "      <td>514.5</td>\n",
       "      <td>294.0</td>\n",
       "      <td>110.25</td>\n",
       "      <td>7.0</td>\n",
       "      <td>4</td>\n",
       "      <td>0.0</td>\n",
       "      <td>0</td>\n",
       "      <td>15.55</td>\n",
       "      <td>21.33</td>\n",
       "    </tr>\n",
       "    <tr>\n",
       "      <th>3</th>\n",
       "      <td>0.98</td>\n",
       "      <td>514.5</td>\n",
       "      <td>294.0</td>\n",
       "      <td>110.25</td>\n",
       "      <td>7.0</td>\n",
       "      <td>5</td>\n",
       "      <td>0.0</td>\n",
       "      <td>0</td>\n",
       "      <td>15.55</td>\n",
       "      <td>21.33</td>\n",
       "    </tr>\n",
       "    <tr>\n",
       "      <th>4</th>\n",
       "      <td>0.90</td>\n",
       "      <td>563.5</td>\n",
       "      <td>318.5</td>\n",
       "      <td>122.50</td>\n",
       "      <td>7.0</td>\n",
       "      <td>2</td>\n",
       "      <td>0.0</td>\n",
       "      <td>0</td>\n",
       "      <td>20.84</td>\n",
       "      <td>28.28</td>\n",
       "    </tr>\n",
       "  </tbody>\n",
       "</table>\n",
       "</div>"
      ],
      "text/plain": [
       "     X1     X2     X3      X4   X5  X6   X7  X8     Y1     Y2\n",
       "0  0.98  514.5  294.0  110.25  7.0   2  0.0   0  15.55  21.33\n",
       "1  0.98  514.5  294.0  110.25  7.0   3  0.0   0  15.55  21.33\n",
       "2  0.98  514.5  294.0  110.25  7.0   4  0.0   0  15.55  21.33\n",
       "3  0.98  514.5  294.0  110.25  7.0   5  0.0   0  15.55  21.33\n",
       "4  0.90  563.5  318.5  122.50  7.0   2  0.0   0  20.84  28.28"
      ]
     },
     "execution_count": 5,
     "metadata": {},
     "output_type": "execute_result"
    }
   ],
   "source": [
    "# Load the dataset\n",
    "file_path = \"C:\\\\Git\\\\Assignment-2\\\\assignment2\\\\ENB2012_data.xlsx\"\n",
    "data = pd.read_excel(file_path)\n",
    "\n",
    "# Display first few rows of the dataset\n",
    "data.head()"
   ]
  },
  {
   "cell_type": "code",
   "execution_count": 41,
   "id": "a1792455-52be-4350-ad18-858f55b68de7",
   "metadata": {},
   "outputs": [
    {
     "data": {
      "text/html": [
       "<div>\n",
       "<style scoped>\n",
       "    .dataframe tbody tr th:only-of-type {\n",
       "        vertical-align: middle;\n",
       "    }\n",
       "\n",
       "    .dataframe tbody tr th {\n",
       "        vertical-align: top;\n",
       "    }\n",
       "\n",
       "    .dataframe thead th {\n",
       "        text-align: right;\n",
       "    }\n",
       "</style>\n",
       "<table border=\"1\" class=\"dataframe\">\n",
       "  <thead>\n",
       "    <tr style=\"text-align: right;\">\n",
       "      <th></th>\n",
       "      <th>Relative Compactness</th>\n",
       "      <th>Surface Area</th>\n",
       "      <th>Wall Area</th>\n",
       "      <th>Roof Area</th>\n",
       "      <th>Overall Height</th>\n",
       "      <th>Orientation</th>\n",
       "      <th>Glazing Area</th>\n",
       "      <th>Glazing Area Distribution</th>\n",
       "      <th>Heating Load</th>\n",
       "      <th>Cooling Load</th>\n",
       "    </tr>\n",
       "  </thead>\n",
       "  <tbody>\n",
       "    <tr>\n",
       "      <th>0</th>\n",
       "      <td>0.98</td>\n",
       "      <td>514.5</td>\n",
       "      <td>294.0</td>\n",
       "      <td>110.25</td>\n",
       "      <td>7.0</td>\n",
       "      <td>2</td>\n",
       "      <td>0.0</td>\n",
       "      <td>0</td>\n",
       "      <td>15.55</td>\n",
       "      <td>21.33</td>\n",
       "    </tr>\n",
       "    <tr>\n",
       "      <th>1</th>\n",
       "      <td>0.98</td>\n",
       "      <td>514.5</td>\n",
       "      <td>294.0</td>\n",
       "      <td>110.25</td>\n",
       "      <td>7.0</td>\n",
       "      <td>3</td>\n",
       "      <td>0.0</td>\n",
       "      <td>0</td>\n",
       "      <td>15.55</td>\n",
       "      <td>21.33</td>\n",
       "    </tr>\n",
       "    <tr>\n",
       "      <th>2</th>\n",
       "      <td>0.98</td>\n",
       "      <td>514.5</td>\n",
       "      <td>294.0</td>\n",
       "      <td>110.25</td>\n",
       "      <td>7.0</td>\n",
       "      <td>4</td>\n",
       "      <td>0.0</td>\n",
       "      <td>0</td>\n",
       "      <td>15.55</td>\n",
       "      <td>21.33</td>\n",
       "    </tr>\n",
       "    <tr>\n",
       "      <th>3</th>\n",
       "      <td>0.98</td>\n",
       "      <td>514.5</td>\n",
       "      <td>294.0</td>\n",
       "      <td>110.25</td>\n",
       "      <td>7.0</td>\n",
       "      <td>5</td>\n",
       "      <td>0.0</td>\n",
       "      <td>0</td>\n",
       "      <td>15.55</td>\n",
       "      <td>21.33</td>\n",
       "    </tr>\n",
       "    <tr>\n",
       "      <th>4</th>\n",
       "      <td>0.90</td>\n",
       "      <td>563.5</td>\n",
       "      <td>318.5</td>\n",
       "      <td>122.50</td>\n",
       "      <td>7.0</td>\n",
       "      <td>2</td>\n",
       "      <td>0.0</td>\n",
       "      <td>0</td>\n",
       "      <td>20.84</td>\n",
       "      <td>28.28</td>\n",
       "    </tr>\n",
       "  </tbody>\n",
       "</table>\n",
       "</div>"
      ],
      "text/plain": [
       "   Relative Compactness  Surface Area  Wall Area  Roof Area  Overall Height  \\\n",
       "0                  0.98         514.5      294.0     110.25             7.0   \n",
       "1                  0.98         514.5      294.0     110.25             7.0   \n",
       "2                  0.98         514.5      294.0     110.25             7.0   \n",
       "3                  0.98         514.5      294.0     110.25             7.0   \n",
       "4                  0.90         563.5      318.5     122.50             7.0   \n",
       "\n",
       "   Orientation  Glazing Area  Glazing Area Distribution  Heating Load  \\\n",
       "0            2           0.0                          0         15.55   \n",
       "1            3           0.0                          0         15.55   \n",
       "2            4           0.0                          0         15.55   \n",
       "3            5           0.0                          0         15.55   \n",
       "4            2           0.0                          0         20.84   \n",
       "\n",
       "   Cooling Load  \n",
       "0         21.33  \n",
       "1         21.33  \n",
       "2         21.33  \n",
       "3         21.33  \n",
       "4         28.28  "
      ]
     },
     "execution_count": 41,
     "metadata": {},
     "output_type": "execute_result"
    }
   ],
   "source": [
    "data.columns= [\"Relative Compactness\", \"Surface Area\", \"Wall Area\", \"Roof Area\", \"Overall Height\", \"Orientation\", \n",
    "               \"Glazing Area\", \"Glazing Area Distribution\", \"Heating Load\", \"Cooling Load\"]\n",
    "data.head()"
   ]
  },
  {
   "cell_type": "code",
   "execution_count": 61,
   "id": "2f6a214c-ce71-481d-9ca5-4e6a12916ac8",
   "metadata": {},
   "outputs": [
    {
     "data": {
      "text/plain": [
       "(768, 10)"
      ]
     },
     "execution_count": 61,
     "metadata": {},
     "output_type": "execute_result"
    }
   ],
   "source": [
    "data.shape"
   ]
  },
  {
   "cell_type": "markdown",
   "id": "893c3e7e-4841-4e36-b971-966695d7a546",
   "metadata": {},
   "source": [
    "# **Data Preprocessing**"
   ]
  },
  {
   "cell_type": "code",
   "execution_count": 57,
   "id": "29fca87a-aa99-44cb-b731-537b937822dc",
   "metadata": {},
   "outputs": [
    {
     "name": "stdout",
     "output_type": "stream",
     "text": [
      "Relative Compactness         0\n",
      "Surface Area                 0\n",
      "Wall Area                    0\n",
      "Roof Area                    0\n",
      "Overall Height               0\n",
      "Orientation                  0\n",
      "Glazing Area                 0\n",
      "Glazing Area Distribution    0\n",
      "dtype: int64\n",
      "0\n"
     ]
    }
   ],
   "source": [
    "# Select the features and target variable\n",
    "X = data[[\"Relative Compactness\", \"Surface Area\", \"Wall Area\", \"Roof Area\", \"Overall Height\", \"Orientation\", \n",
    "               \"Glazing Area\", \"Glazing Area Distribution\"]]\n",
    "y = data[\"Heating Load\"]  # Heating Load\n",
    "\n",
    "# Check for missing values\n",
    "print(X.isnull().sum())\n",
    "print(y.isnull().sum())\n",
    "\n",
    "# Drop rows with missing values\n",
    "X = X.dropna()\n",
    "y = y.dropna()\n",
    "\n",
    "# Split the data into 60% training, 20% validation, and 20% testing\n",
    "X_train, X_temp, y_train, y_temp = train_test_split(X, y, test_size=0.4, random_state=42)\n",
    "X_val, X_test, y_val, y_test = train_test_split(X_temp, y_temp, test_size=0.5, random_state=42)\n",
    "\n",
    "# Normalize the features (important for regularized models like Ridge)\n",
    "scalerX = StandardScaler()\n",
    "X_train_scaled = scalerX.fit_transform(X_train)\n",
    "X_val_scaled = scalerX.transform(X_val)\n",
    "X_test_scaled = scalerX.transform(X_test)\n",
    "\n",
    "# Normalize the target variable\n",
    "scalery = StandardScaler()\n",
    "y_train_scaled = scalery.fit_transform(y_train.values.reshape(-1, 1))\n",
    "y_val_scaled = scalery.transform(y_val.values.reshape(-1, 1))\n",
    "y_test_scaled = scalery.transform(y_test.values.reshape(-1, 1))"
   ]
  },
  {
   "cell_type": "markdown",
   "id": "f0c2e0db-f78c-4870-a93b-131b086116d7",
   "metadata": {},
   "source": [
    "# **Model Training and Hyperparameter Tuning (Ridge Regularization)**"
   ]
  },
  {
   "cell_type": "code",
   "execution_count": 65,
   "id": "9eb43db5-7bb2-4b04-98fc-9bb6f4429824",
   "metadata": {},
   "outputs": [
    {
     "name": "stdout",
     "output_type": "stream",
     "text": [
      "Best Ridge Model (α = 0.00001):\n",
      "R² on Validation Data: 0.9050\n"
     ]
    }
   ],
   "source": [
    "# Experiment with different values of alpha (regularization strength)\n",
    "alphas = np.logspace(-5, 5, 10)  # 10 values ranging from 10^-5 (0.00001) to 10^5 (100,000) spaced logarithmically\n",
    "best_alpha = None\n",
    "best_r2 = -np.inf\n",
    "best_model_ridge = None\n",
    "# this values will be updated as the loop progresses to store the best model parameters (alpha) and performance (R²) based on validation data.\n",
    "\n",
    "# Iterate over the alphas to find the best model based on R² on validation data\n",
    "for alpha in alphas:\n",
    "    ridge_model = Ridge(alpha=alpha)\n",
    "    ridge_model.fit(X_train_scaled, y_train_scaled)\n",
    "    y_val_pred_scaled = ridge_model.predict(X_val_scaled)\n",
    "    r2 = r2_score(y_val_scaled, y_val_pred_scaled)\n",
    "    \n",
    "    if r2 > best_r2:\n",
    "        best_r2 = r2\n",
    "        best_alpha = alpha\n",
    "        best_model_ridge = ridge_model\n",
    "\n",
    "# Print the best regularization strength and the corresponding model's R²\n",
    "print(f\"Best Ridge Model (α = {best_alpha:.5f}):\")  # format with 5 decimal places\n",
    "print(f\"R² on Validation Data: {best_r2:.4f}\")"
   ]
  },
  {
   "cell_type": "markdown",
   "id": "dd56e244-f902-4d5b-8af4-1bde63e13d9c",
   "metadata": {},
   "source": [
    "# **Final Evaluation on Test Data**  \n",
    "**After identifying the best model, we need to test its performance on unseen data (the test set).**"
   ]
  },
  {
   "cell_type": "code",
   "execution_count": 39,
   "id": "1b9b3149-36f3-4040-975c-8076fc8770ed",
   "metadata": {},
   "outputs": [
    {
     "name": "stdout",
     "output_type": "stream",
     "text": [
      "Final Evaluation on Test Data (Ridge Model):\n",
      "R²: 0.9196\n",
      "MSE: 0.0784\n"
     ]
    },
    {
     "data": {
      "image/png": "[encoded data removed]",
      "text/plain": [
       "<Figure size 640x480 with 1 Axes>"
      ]
     },
     "metadata": {},
     "output_type": "display_data"
    }
   ],
   "source": [
    "# Predict on the test set using the best Ridge model\n",
    "y_test_pred_scaled = best_model_ridge.predict(X_test_scaled) # use the best_model_ridge to make predictions on the scaled test data (X_test_scaled).\n",
    "# The output, y_test_pred_scaled, is the predicted target variable for the test set, but in the scaled form (since we standardized the data earlier).\n",
    "\n",
    "# Evaluate on the test set\n",
    "# Calculates the MSE between the actual test values (y_test_scaled) and the predicted test values (y_test_pred_scaled).\n",
    "mse_test = mean_squared_error(y_test_scaled, y_test_pred_scaled) # The smaller the MSE the better.\n",
    "# Calculates the R² (R-squared) score for the test data\n",
    "# values closer to 1 indicates model explains a large portion of the variance in the target variable. Values closer to 0 indicate poor performance.\n",
    "r2_test = r2_score(y_test_scaled, y_test_pred_scaled)\n",
    "\n",
    "# Transform predictions back to the original scale\n",
    "y_test_pred = scalery.inverse_transform(y_test_pred_scaled)\n",
    "y_test_actual = scalery.inverse_transform(y_test_scaled)\n",
    "\n",
    "print(f\"Final Evaluation on Test Data (Ridge Model):\")\n",
    "print(f\"R²: {r2_test:.4f}\")\n",
    "print(f\"MSE: {mse_test:.4f}\")\n",
    "\n",
    "# Plot Actual vs Predicted values for the test data\n",
    "plt.scatter(y_test_actual, y_test_pred, label='Predicted vs Actual', color='blue')\n",
    "plt.plot([min(y_test_actual), max(y_test_actual)], [min(y_test_actual), max(y_test_actual)], 'k--', lw=2, label='y=x (Ideal Prediction)')\n",
    "\n",
    "# Add labels and a legend\n",
    "plt.xlabel('Actual Heating Load')\n",
    "plt.ylabel('Predicted Heating Load')\n",
    "plt.title('Ridge Regression: Actual vs Predicted Heating Load')\n",
    "plt.legend()\n",
    "plt.grid(True)\n",
    "plt.show()"
   ]
  },
  {
   "cell_type": "markdown",
   "id": "0c4519f1-a0e3-45ff-8bd5-c3f84b706673",
   "metadata": {},
   "source": [
    "# **Model Coefficients and Feature Importance**"
   ]
  },
  {
   "cell_type": "code",
   "execution_count": 24,
   "id": "36533a8a-572e-488a-81ac-84a9987ba13e",
   "metadata": {},
   "outputs": [
    {
     "name": "stdout",
     "output_type": "stream",
     "text": [
      "Top 5 Features based on Ridge Coefficients: ['X5', 'X1', 'X4', 'X2', 'X7']\n",
      "Top 5 Feature Coefficients: [ 0.72512402 -0.62840478 -0.37275065 -0.3434221   0.26911441]\n"
     ]
    },
    {
     "data": {
      "image/png": "[encoded data removed]",
      "text/plain": [
       "<Figure size 640x480 with 1 Axes>"
      ]
     },
     "metadata": {},
     "output_type": "display_data"
    }
   ],
   "source": [
    "# Assuming best_model_ridge is just the Ridge model, not a pipeline\n",
    "ridge_coefficients = best_model_ridge.coef_[0]  # Ridge coefficients (1D array)\n",
    "ridge_intercept = best_model_ridge.intercept_\n",
    "\n",
    "# Calculate feature importance (absolute value of coefficients)\n",
    "feature_importance = np.abs(ridge_coefficients) # Just to ignore the sign and focus on how strongly each feature influences the target variable\n",
    "\n",
    "# Get the top 5 features based on the absolute value of coefficients\n",
    "top_5_features_idx = np.argsort(feature_importance)[::-1][:5]  # Indices of the top 5 features / This is originally in ascending order\n",
    "# [::-1] reverses the order, so we get the indices sorted in descending order and [:5] selects the top 5 features based on their importance.\n",
    "\n",
    "# Access the feature names based on the sorted indices\n",
    "top_5_features = X.columns[top_5_features_idx].to_list()  # Convert to list of feature names\n",
    "top_5_coefficients = ridge_coefficients[top_5_features_idx] # retrieves the coefficients corresponding to the top 5 features.\n",
    "\n",
    "print(f\"Top 5 Features based on Ridge Coefficients: {top_5_features}\")\n",
    "print(f\"Top 5 Feature Coefficients: {top_5_coefficients}\")\n",
    "\n",
    "# Plot the coefficients for visualization\n",
    "plt.bar(top_5_features, top_5_coefficients, color='orange')\n",
    "plt.xlabel('Features')\n",
    "plt.ylabel('Coefficient Value')\n",
    "plt.title('Top 5 Features Based on Ridge Coefficients')\n",
    "plt.xticks(rotation=45)\n",
    "plt.grid(True)\n",
    "plt.show()\n"
   ]
  },
  {
   "cell_type": "markdown",
   "id": "fea463ed-7245-43ff-8f12-29039922140f",
   "metadata": {},
   "source": [
    "**Key Points:**\n",
    "\n",
    "**Feature Importance:** The length of the bar indicates the relative importance of the feature. Longer bars correspond to features that have a greater impact on the target variable.\n",
    "Coefficient Direction:\n",
    "\n",
    "**Positive Coefficient:** A positive coefficient means that as the feature value increases, the target variable tends to increase as well.\n",
    "\n",
    "**Negative Coefficient:** A negative coefficient means that as the feature value increases, the target variable tends to decrease.\n",
    "\n",
    "**Feature 'X5':** Has the highest positive coefficient, suggesting that increasing 'X5' tends to increase the target variable.  \n",
    "**Feature 'X1':** Has the second-highest negative coefficient, indicating that increasing 'X1' tends to decrease the target variable.  \n",
    "**Other Features:** The remaining features ('X4', 'X2', and 'X7') have smaller coefficients, implying a lesser impact on the target variable."
   ]
  },
  {
   "cell_type": "markdown",
   "id": "12991241-249b-4401-aaa1-ad2706da0106",
   "metadata": {},
   "source": [
    "# **Evaluating with Top 5 Features**"
   ]
  },
  {
   "cell_type": "code",
   "execution_count": 74,
   "id": "6478e42c-9927-4b09-8f79-cc504d2679fd",
   "metadata": {},
   "outputs": [
    {
     "name": "stdout",
     "output_type": "stream",
     "text": [
      "R² using Top 5 Features (Ridge Model): 0.9195\n",
      "Mean Squared Error using Top 5 Features (Ridge Model): 0.0785\n"
     ]
    }
   ],
   "source": [
    "# Select only the top 5 features based on Ridge coefficients\n",
    "X_top_5 = X.iloc[:, top_5_features_idx]\n",
    "\n",
    "# Split the data again and normalize the top 5 features\n",
    "X_train_top5, X_temp, y_train_top5, y_temp = train_test_split(X_top_5, y, test_size=0.4, random_state=42)\n",
    "X_val_top5, X_test_top5, y_val_top5, y_test_top5 = train_test_split(X_temp, y_temp, test_size=0.5, random_state=42)\n",
    "\n",
    "X_train_top5_scaled = scalerX.fit_transform(X_train_top5)\n",
    "X_val_top5_scaled = scalerX.transform(X_val_top5)\n",
    "X_test_top5_scaled = scalerX.transform(X_test_top5)\n",
    "\n",
    "# Train Ridge Model with the top 5 features\n",
    "ridge_model_top5 = Ridge(alpha=best_alpha)\n",
    "ridge_model_top5.fit(X_train_top5_scaled, y_train_scaled)\n",
    "\n",
    "# Evaluate on the test set\n",
    "y_test_top5_pred_scaled = ridge_model_top5.predict(X_test_top5_scaled)\n",
    "r2_top5 = r2_score(y_test_scaled, y_test_top5_pred_scaled)\n",
    "\n",
    "print(f\"R² using Top 5 Features (Ridge Model): {r2_top5:.4f}\")\n",
    "\n",
    "# Calculate Mean Squared Error (MSE)\n",
    "mse_top5 = mean_squared_error(y_test_scaled, y_test_top5_pred_scaled)\n",
    "print(f\"Mean Squared Error using Top 5 Features (Ridge Model): {mse_top5:.4f}\")"
   ]
  },
  {
   "cell_type": "markdown",
   "id": "fef4edb4-351e-429a-8e6b-465e685d0f11",
   "metadata": {},
   "source": [
    "# **1. Impact of Removing Certain Features**  \n",
    "**What happens when you remove certain features?** Removing features may degrade the model's performance if the removed features carry significant predictive power. Alternatively, removing irrelevant or noisy features can improve model performance by reducing overfitting and improving generalization.  \n",
    "# **2. Importance of Data Splitting**  \n",
    "**Why is it necessary to split the data?** Data should be split into training, validation, and testing sets to ensure that the model generalizes well to unseen data. If you use the same data for training and testing, the model might memorize the data (overfitting) and fail to generalize to new, unseen data.  \n",
    "**Consequences of skipping this step?** If you skip this step, your model might have inflated performance metrics, but it will likely perform poorly when deployed in the real world, where it will encounter new data.  \n",
    "# **3. Generalization Ability**  \n",
    "**How is generalization assessed?** The model's ability to generalize is assessed by its performance on the test data, which is data that it has never seen before. A high R² and low error on the test set indicate good generalization.  \n",
    "**Steps to ensure good generalization:**  \n",
    "Use cross-validation during model selection (not just a single validation split).  \n",
    "Regularize the model (as done with Ridge) to avoid overfitting.  \n",
    "Ensure that the test set is kept separate from the training process to provide an unbiased estimate of model performance on new data.  \n"
   ]
  }
 ],
 "metadata": {
  "kernelspec": {
   "display_name": "Python 3 (ipykernel)",
   "language": "python",
   "name": "python3"
  },
  "language_info": {
   "codemirror_mode": {
    "name": "ipython",
    "version": 3
   },
   "file_extension": ".py",
   "mimetype": "text/x-python",
   "name": "python",
   "nbconvert_exporter": "python",
   "pygments_lexer": "ipython3",
   "version": "3.12.4"
  }
 },
 "nbformat": 4,
 "nbformat_minor": 5
}
