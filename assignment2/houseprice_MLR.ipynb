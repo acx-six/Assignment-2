{
 "cells": [
  {
   "cell_type": "code",
   "execution_count": 1,
   "metadata": {
    "executionInfo": {
     "elapsed": 5556,
     "status": "ok",
     "timestamp": 1728520004267,
     "user": {
      "displayName": "Timothy Amado",
      "userId": "12978978190506401795"
     },
     "user_tz": -480
    },
    "id": "wmKmorTQzBNB"
   },
   "outputs": [],
   "source": [
    "import numpy as np\n",
    "import matplotlib.pyplot as plt\n",
    "from sklearn.linear_model import LinearRegression\n",
    "from sklearn.preprocessing import StandardScaler"
   ]
  },
  {
   "cell_type": "code",
   "execution_count": 2,
   "metadata": {
    "colab": {
     "base_uri": "https://localhost:8080/"
    },
    "executionInfo": {
     "elapsed": 6,
     "status": "ok",
     "timestamp": 1728520059032,
     "user": {
      "displayName": "Timothy Amado",
      "userId": "12978978190506401795"
     },
     "user_tz": -480
    },
    "id": "a94Q8IBr0WMz",
    "outputId": "59bcea18-843e-4880-ad09-86eb3175b2f4"
   },
   "outputs": [
    {
     "name": "stdout",
     "output_type": "stream",
     "text": [
      "[[280.    3.    7.    8.9]\n",
      " [140.    2.    5.    2.3]\n",
      " [225.    2.    6.    7. ]\n",
      " [300.    4.    4.    9.2]\n",
      " [180.    2.    3.    3.4]\n",
      " [195.    2.    5.    5.6]\n",
      " [305.    4.    2.    9.4]\n",
      " [150.    3.    8.    3.8]]\n"
     ]
    }
   ],
   "source": [
    "#Create the dataset based on the given table\n",
    "x = np.array([[280, 3, 7, 8.9],\n",
    "              [140, 2, 5, 2.3],\n",
    "              [225, 2, 6, 7.0],\n",
    "              [300, 4, 4, 9.2],\n",
    "              [180, 2, 3, 3.4],\n",
    "              [195, 2, 5, 5.6],\n",
    "              [305, 4, 2, 9.4],\n",
    "              [150, 3, 8, 3.8]])\n",
    "print(x)"
   ]
  },
  {
   "cell_type": "code",
   "execution_count": 3,
   "metadata": {
    "colab": {
     "base_uri": "https://localhost:8080/"
    },
    "executionInfo": {
     "elapsed": 394,
     "status": "ok",
     "timestamp": 1728520076720,
     "user": {
      "displayName": "Timothy Amado",
      "userId": "12978978190506401795"
     },
     "user_tz": -480
    },
    "id": "ntP5HO_F0u6T",
    "outputId": "c0c33500-2b55-44e9-e350-aa1a62735df2"
   },
   "outputs": [
    {
     "name": "stdout",
     "output_type": "stream",
     "text": [
      "[[280.   3.   7.]\n",
      " [140.   2.   5.]\n",
      " [225.   2.   6.]\n",
      " [300.   4.   4.]\n",
      " [180.   2.   3.]\n",
      " [195.   2.   5.]\n",
      " [305.   4.   2.]\n",
      " [150.   3.   8.]]\n",
      "[[8.9]\n",
      " [2.3]\n",
      " [7. ]\n",
      " [9.2]\n",
      " [3.4]\n",
      " [5.6]\n",
      " [9.4]\n",
      " [3.8]]\n"
     ]
    }
   ],
   "source": [
    "#Separate features (X) from target (y)\n",
    "X = x[:,:-1]\n",
    "y = x[:,-1].reshape(-1,1)\n",
    "print(X)\n",
    "print(y)"
   ]
  },
  {
   "cell_type": "code",
   "execution_count": 4,
   "metadata": {
    "colab": {
     "base_uri": "https://localhost:8080/"
    },
    "executionInfo": {
     "elapsed": 370,
     "status": "ok",
     "timestamp": 1728520144944,
     "user": {
      "displayName": "Timothy Amado",
      "userId": "12978978190506401795"
     },
     "user_tz": -480
    },
    "id": "MRqRntkS0zi7",
    "outputId": "2676301f-020f-4594-b4a6-4a30d28861ac"
   },
   "outputs": [
    {
     "name": "stdout",
     "output_type": "stream",
     "text": [
      "[[ 0.93757813  0.30151134  1.06904497]\n",
      " [-1.32067457 -0.90453403  0.        ]\n",
      " [ 0.05040743 -0.90453403  0.53452248]\n",
      " [ 1.26018566  1.50755672 -0.53452248]\n",
      " [-0.67545951 -0.90453403 -1.06904497]\n",
      " [-0.43350387 -0.90453403  0.        ]\n",
      " [ 1.34083754  1.50755672 -1.60356745]\n",
      " [-1.15937081  0.30151134  1.60356745]]\n",
      "[[ 1.01742015]\n",
      " [-1.46960689]\n",
      " [ 0.30145782]\n",
      " [ 1.13046684]\n",
      " [-1.05510238]\n",
      " [-0.22609337]\n",
      " [ 1.20583129]\n",
      " [-0.90437347]]\n"
     ]
    }
   ],
   "source": [
    "#Normalize Data\n",
    "scalerX = StandardScaler()\n",
    "X2 = scalerX.fit_transform(X)\n",
    "scalerY = StandardScaler()\n",
    "y2 = scalerY.fit_transform(y)\n",
    "print(X2)\n",
    "print(y2)"
   ]
  },
  {
   "cell_type": "code",
   "execution_count": 19,
   "metadata": {
    "colab": {
     "base_uri": "https://localhost:8080/"
    },
    "executionInfo": {
     "elapsed": 400,
     "status": "ok",
     "timestamp": 1728521854578,
     "user": {
      "displayName": "Timothy Amado",
      "userId": "12978978190506401795"
     },
     "user_tz": -480
    },
    "id": "W2nwUIvA1ESE",
    "outputId": "3ad2c76c-565e-4276-b45d-b957b261a35e"
   },
   "outputs": [
    {
     "name": "stdout",
     "output_type": "stream",
     "text": [
      "Coefficients: \n",
      " [3.05665936e-16] [[ 1.07343058 -0.04043641  0.18214941]]\n",
      "R^2: 0.9821547395895909\n",
      "MSE: 0.14276208328327333\n"
     ]
    }
   ],
   "source": [
    "#Fit Linear Regression\n",
    "model = LinearRegression().fit(X2, y2)\n",
    "print(\"Coefficients: \\n\", model.intercept_, model.coef_)\n",
    "r_sq = model.score(X2, y2)\n",
    "print(f\"R^2: {r_sq}\")\n",
    "\n",
    "#Generate prediction based on inputs\n",
    "ypred = model.predict(X2)\n",
    "MSE = ((y2 - ypred)**2).sum()\n",
    "print(f\"MSE: {MSE}\")"
   ]
  },
  {
   "cell_type": "code",
   "execution_count": 15,
   "metadata": {
    "colab": {
     "base_uri": "https://localhost:8080/",
     "height": 449
    },
    "executionInfo": {
     "elapsed": 2090,
     "status": "ok",
     "timestamp": 1728520864850,
     "user": {
      "displayName": "Timothy Amado",
      "userId": "12978978190506401795"
     },
     "user_tz": -480
    },
    "id": "Q889GysV1HpL",
    "outputId": "4cc0c769-9328-417e-8c7f-7191d8f68190"
   },
   "outputs": [
    {
     "data": {
      "image/png": "[encoded data removed]",
      "text/plain": [
       "<Figure size 640x480 with 1 Axes>"
      ]
     },
     "metadata": {},
     "output_type": "display_data"
    }
   ],
   "source": [
    "plt.scatter(y2,ypred)\n",
    "plt.plot(np.array([-3, 3]),np.array([-3, 3]), color='k', linestyle = '--', linewidth = 0.5)\n",
    "plt.xlabel('Actual House Price')\n",
    "plt.ylabel('Predicted House Price')\n",
    "plt.grid()\n",
    "plt.show()"
   ]
  },
  {
   "cell_type": "code",
   "execution_count": 17,
   "metadata": {
    "colab": {
     "base_uri": "https://localhost:8080/",
     "height": 449
    },
    "executionInfo": {
     "elapsed": 2156,
     "status": "ok",
     "timestamp": 1728520903181,
     "user": {
      "displayName": "Timothy Amado",
      "userId": "12978978190506401795"
     },
     "user_tz": -480
    },
    "id": "oSQtRjVB1YSP",
    "outputId": "7a9c5fff-1e69-4070-8078-45aa5a6c23ce"
   },
   "outputs": [
    {
     "data": {
      "image/png": "[encoded data removed]",
      "text/plain": [
       "<Figure size 640x480 with 1 Axes>"
      ]
     },
     "metadata": {},
     "output_type": "display_data"
    }
   ],
   "source": [
    "y = scalerY.inverse_transform(y2)\n",
    "ypred2 = scalerY.inverse_transform(ypred)\n",
    "plt.scatter(y,ypred2)\n",
    "plt.plot(np.array([0, 12]),np.array([0, 12]),color='k', linestyle = '--', linewidth = 0.5)\n",
    "plt.xlabel('Actual House Price (millions PhP)')\n",
    "plt.ylabel('Predicted House Price (millions PhP)')\n",
    "plt.grid()\n",
    "plt.show()"
   ]
  },
  {
   "cell_type": "code",
   "execution_count": 18,
   "metadata": {
    "colab": {
     "base_uri": "https://localhost:8080/"
    },
    "executionInfo": {
     "elapsed": 923,
     "status": "ok",
     "timestamp": 1728520972868,
     "user": {
      "displayName": "Timothy Amado",
      "userId": "12978978190506401795"
     },
     "user_tz": -480
    },
    "id": "4w02Cx1U3jOs",
    "outputId": "8f17eabf-3844-4cd4-eeff-cc0b19cf016e"
   },
   "outputs": [
    {
     "name": "stdout",
     "output_type": "stream",
     "text": [
      "Original Intercept:  [-4.93106243]\n",
      "Original Coefficients:  [[ 0.04594962 -0.1294195   0.25837897]]\n"
     ]
    }
   ],
   "source": [
    "# Get the coefficients and intercept of the scaled model\n",
    "scaled_intercept = model.intercept_\n",
    "scaled_coefficients = model.coef_\n",
    "\n",
    "# Calculate original coefficients\n",
    "original_coefficients = scaled_coefficients * (scalerY.scale_ / scalerX.scale_)\n",
    "\n",
    "# Calculate the original intercept\n",
    "original_intercept = scalerY.mean_ - np.dot(original_coefficients, scalerX.mean_) + scaled_intercept * scalerY.scale_\n",
    "\n",
    "print(\"Original Intercept: \", original_intercept)\n",
    "print(\"Original Coefficients: \", original_coefficients)"
   ]
  },
  {
   "cell_type": "code",
   "execution_count": 23,
   "metadata": {
    "colab": {
     "base_uri": "https://localhost:8080/"
    },
    "executionInfo": {
     "elapsed": 442,
     "status": "ok",
     "timestamp": 1728522235734,
     "user": {
      "displayName": "Timothy Amado",
      "userId": "12978978190506401795"
     },
     "user_tz": -480
    },
    "id": "QePyiiw84OSS",
    "outputId": "a20f655c-3ba2-4e71-f468-d9469312f694"
   },
   "outputs": [
    {
     "name": "stdout",
     "output_type": "stream",
     "text": [
      "MSE: 1.0054019715224514\n"
     ]
    }
   ],
   "source": [
    "ypred = model.predict(X2)\n",
    "ypred2 = scalerY.inverse_transform(ypred)\n",
    "MSE = ((y - ypred2)**2).sum()\n",
    "print(f\"MSE: {MSE}\")"
   ]
  },
  {
   "cell_type": "code",
   "execution_count": null,
   "metadata": {
    "id": "wcB5CmZu7vjd"
   },
   "outputs": [],
   "source": []
  }
 ],
 "metadata": {
  "colab": {
   "authorship_tag": "ABX9TyOpukBXrfJTfuiK0/5SlJiJ",
   "provenance": []
  },
  "kernelspec": {
   "display_name": "Python 3 (ipykernel)",
   "language": "python",
   "name": "python3"
  },
  "language_info": {
   "codemirror_mode": {
    "name": "ipython",
    "version": 3
   },
   "file_extension": ".py",
   "mimetype": "text/x-python",
   "name": "python",
   "nbconvert_exporter": "python",
   "pygments_lexer": "ipython3",
   "version": "3.12.4"
  }
 },
 "nbformat": 4,
 "nbformat_minor": 4
}
