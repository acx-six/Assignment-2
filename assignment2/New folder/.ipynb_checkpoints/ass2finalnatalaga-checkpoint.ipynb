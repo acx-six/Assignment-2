{
 "cells": [
  {
   "cell_type": "markdown",
   "id": "55503270-f6a9-49d8-bba3-0724146d0aa0",
   "metadata": {},
   "source": [
    "# **Data Loading and Preprocessing**"
   ]
  },
  {
   "cell_type": "markdown",
   "id": "982821f3-3589-4577-828f-e6e732a0b189",
   "metadata": {},
   "source": [
    "**Import Necessary Libraries:**"
   ]
  },
  {
   "cell_type": "code",
   "execution_count": 41,
   "id": "abc39cbf-39f4-4c7d-9673-1b57fc7e2b61",
   "metadata": {},
   "outputs": [],
   "source": [
    "import pandas as pd\n",
    "import numpy as np\n",
    "from sklearn.linear_model import Ridge\n",
    "from sklearn.model_selection import train_test_split\n",
    "from sklearn.preprocessing import StandardScaler"
   ]
  },
  {
   "cell_type": "markdown",
   "id": "6ff3ec05-8eba-467d-8748-e3d03df4456f",
   "metadata": {},
   "source": [
    "**Load the Dataset:**"
   ]
  },
  {
   "cell_type": "code",
   "execution_count": 43,
   "id": "c3112e0c-eae7-443c-bb74-5e935c29c01b",
   "metadata": {},
   "outputs": [],
   "source": [
    "file_path = \"C:\\\\Users\\\\ACDC\\\\Desktop\\\\techem\\\\assignment2\\\\energy+efficiency\\\\ENB2012_data.xlsx\"\n",
    "data = pd.read_excel(file_path)"
   ]
  },
  {
   "cell_type": "markdown",
   "id": "c616cb58-0d33-48e0-8193-82a3587c3949",
   "metadata": {},
   "source": [
    "**Split Data into Features and Target:**"
   ]
  },
  {
   "cell_type": "code",
   "execution_count": 45,
   "id": "7023d0c2-206c-45c4-b31e-8ed5cc6783bd",
   "metadata": {},
   "outputs": [],
   "source": [
    "X = data.iloc[:, :-1]  # Features (X1 to X8)\n",
    "y = data.iloc[:, -1]  # Target (Y1 - Heating Load)"
   ]
  },
  {
   "cell_type": "markdown",
   "id": "04f75535-9adb-4c15-94f2-69ddce8f1c89",
   "metadata": {},
   "source": [
    "**Standardize Features:**"
   ]
  },
  {
   "cell_type": "code",
   "execution_count": 47,
   "id": "16a26ece-2956-4068-bb3f-fdb43e4b6543",
   "metadata": {},
   "outputs": [],
   "source": [
    "scaler = StandardScaler()\n",
    "X_scaled = scaler.fit_transform(X)"
   ]
  },
  {
   "cell_type": "markdown",
   "id": "a81e05cb-99e2-4e42-80a6-438c2a251ca2",
   "metadata": {},
   "source": [
    "**Split Data into Training, Validation, and Testing Sets:**"
   ]
  },
  {
   "cell_type": "code",
   "execution_count": 49,
   "id": "1f6502ba-cbb0-4bc7-84a8-e168e371044d",
   "metadata": {},
   "outputs": [],
   "source": [
    "X_train, X_temp, y_train, y_temp = train_test_split(X_scaled, y, test_size=0.4, random_state=42)\n",
    "X_val, X_test, y_val, y_test = train_test_split(X_temp, y_temp, test_size=0.5, random_state=42)"
   ]
  },
  {
   "cell_type": "markdown",
   "id": "9945403c-8839-4008-bca7-d51064eeedf8",
   "metadata": {},
   "source": [
    "# **Implementing Ridge Regression and Hyperparameter Tuning**"
   ]
  },
  {
   "cell_type": "markdown",
   "id": "bc1f6905-e525-4c6d-905c-5e94cfde0b62",
   "metadata": {},
   "source": [
    "**Import Ridge Regression:**"
   ]
  },
  {
   "cell_type": "code",
   "execution_count": 51,
   "id": "fcae7754-2ee2-46f2-9f11-3af262d8acbc",
   "metadata": {},
   "outputs": [],
   "source": [
    "from sklearn.linear_model import Ridge"
   ]
  },
  {
   "cell_type": "markdown",
   "id": "789f7177-9fb7-4598-905d-41cb14fcfafd",
   "metadata": {},
   "source": [
    "**Hyperparameter Tuning:**"
   ]
  },
  {
   "cell_type": "code",
   "execution_count": 53,
   "id": "c3279854-f0a5-4336-930f-05728b91c870",
   "metadata": {},
   "outputs": [],
   "source": [
    "alpha_values = [0.01, 0.1, 1, 10, 100]  # Example values\n",
    "best_alpha = None\n",
    "best_val_score = -float('inf')\n",
    "\n",
    "for alpha in alpha_values:\n",
    "    ridge_model = Ridge(alpha=alpha)\n",
    "    ridge_model.fit(X_train, y_train)\n",
    "    val_score = ridge_model.score(X_val, y_val)\n",
    "\n",
    "    if val_score > best_val_score:\n",
    "        best_alpha = alpha\n",
    "        best_val_score = val_score"
   ]
  },
  {
   "cell_type": "markdown",
   "id": "3e362ce2-3766-4f6a-abc0-46a440713b54",
   "metadata": {},
   "source": [
    "# **Final Model Training and Evaluation**"
   ]
  },
  {
   "cell_type": "markdown",
   "id": "42231bc5-fe68-4dc8-a901-e31f914a043d",
   "metadata": {},
   "source": [
    "**Train Final Model:**"
   ]
  },
  {
   "cell_type": "code",
   "execution_count": 55,
   "id": "4aad646e-1f6d-4e4d-8aa2-508d0bff0f89",
   "metadata": {},
   "outputs": [
    {
     "ename": "AttributeError",
     "evalue": "'numpy.ndarray' object has no attribute 'concat'",
     "output_type": "error",
     "traceback": [
      "\u001b[1;31m---------------------------------------------------------------------------\u001b[0m",
      "\u001b[1;31mAttributeError\u001b[0m                            Traceback (most recent call last)",
      "Cell \u001b[1;32mIn[55], line 2\u001b[0m\n\u001b[0;32m      1\u001b[0m final_model \u001b[38;5;241m=\u001b[39m Ridge(alpha\u001b[38;5;241m=\u001b[39mbest_alpha)\n\u001b[1;32m----> 2\u001b[0m final_model\u001b[38;5;241m.\u001b[39mfit(X_train\u001b[38;5;241m.\u001b[39mconcat(X_val), y_train\u001b[38;5;241m.\u001b[39mconcat(y_val))\n",
      "\u001b[1;31mAttributeError\u001b[0m: 'numpy.ndarray' object has no attribute 'concat'"
     ]
    }
   ],
   "source": [
    "final_model = Ridge(alpha=best_alpha)\n",
    "final_model.fit(X_train.concat(X_val), y_train.concat(y_val))"
   ]
  },
  {
   "cell_type": "code",
   "execution_count": null,
   "id": "0426ca2e-82ec-4f31-b0a8-a5b10e640a99",
   "metadata": {},
   "outputs": [],
   "source": []
  }
 ],
 "metadata": {
  "kernelspec": {
   "display_name": "Python 3 (ipykernel)",
   "language": "python",
   "name": "python3"
  },
  "language_info": {
   "codemirror_mode": {
    "name": "ipython",
    "version": 3
   },
   "file_extension": ".py",
   "mimetype": "text/x-python",
   "name": "python",
   "nbconvert_exporter": "python",
   "pygments_lexer": "ipython3",
   "version": "3.12.4"
  }
 },
 "nbformat": 4,
 "nbformat_minor": 5
}
