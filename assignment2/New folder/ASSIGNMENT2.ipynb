{
 "cells": [
  {
   "cell_type": "markdown",
   "id": "8aae2ad2-98da-493c-9709-8808c80f86fa",
   "metadata": {},
   "source": [
    "**Load and Prepare the Dataset**"
   ]
  },
  {
   "cell_type": "code",
   "execution_count": 2,
   "id": "795c7520-1362-4ae2-9612-7f367cdaa156",
   "metadata": {},
   "outputs": [
    {
     "name": "stdout",
     "output_type": "stream",
     "text": [
      "Training set: (460, 8), Validation set: (154, 8), Test set: (154, 8)\n"
     ]
    }
   ],
   "source": [
    "import pandas as pd\n",
    "from sklearn.model_selection import train_test_split\n",
    "\n",
    "# Load dataset\n",
    "file_path = \"C:\\\\Users\\\\ACDC\\\\Desktop\\\\techem\\\\assignment2\\\\energy+efficiency\\\\ENB2012_data.xlsx\"\n",
    "data = pd.read_excel(file_path)\n",
    "\n",
    "# Separate features (X1 to X8) and target (Y1 - Heating Load)\n",
    "X = data.iloc[:, :-2]  # X1 to X8\n",
    "y = data['Y1']  # Heating Load\n",
    "\n",
    "# Split into training (60%), validation (20%), and test sets (20%)\n",
    "X_train, X_temp, y_train, y_temp = train_test_split(X, y, test_size=0.4, random_state=42)\n",
    "X_val, X_test, y_val, y_test = train_test_split(X_temp, y_temp, test_size=0.5, random_state=42)\n",
    "\n",
    "print(f\"Training set: {X_train.shape}, Validation set: {X_val.shape}, Test set: {X_test.shape}\")\n"
   ]
  },
  {
   "cell_type": "markdown",
   "id": "da2b0e33-d964-45a6-9beb-c753436ceab9",
   "metadata": {},
   "source": [
    "**Apply Ridge Regression and Test Different Regularization Parameters**"
   ]
  },
  {
   "cell_type": "code",
   "execution_count": 5,
   "id": "ddeb8da5-a094-4bb7-9d43-227f72cc45cc",
   "metadata": {},
   "outputs": [
    {
     "name": "stdout",
     "output_type": "stream",
     "text": [
      "Alpha: 0.01, Validation R2: 0.9043592533272623\n",
      "Alpha: 0.1, Validation R2: 0.9010931755986764\n",
      "Alpha: 1, Validation R2: 0.8982298600592488\n",
      "Alpha: 10, Validation R2: 0.8799878406113232\n",
      "Alpha: 100, Validation R2: 0.8245357918535061\n",
      "Alpha: 0.001, Validation R2: 0.9049607490073657\n",
      "Alpha: 0.05, Validation R2: 0.9023802084376358\n",
      "Alpha: 5, Validation R2: 0.8904112990138161\n",
      "Alpha: 50, Validation R2: 0.842370347141003\n",
      "Alpha: 0.0001, Validation R2: 0.9050212036135077\n",
      "Best alpha: 0.0001, Best Validation R2: 0.9050212036135077\n"
     ]
    }
   ],
   "source": [
    "from sklearn.linear_model import Ridge\n",
    "from sklearn.metrics import r2_score\n",
    "\n",
    "# List of regularization parameters\n",
    "alphas = [0.01, 0.1, 1, 10, 100, 0.001, 0.05, 5, 50, 0.0001]\n",
    "\n",
    "best_alpha = None\n",
    "best_r2 = -float('inf')\n",
    "best_model = None\n",
    "\n",
    "# Loop through different alphas and find the best one based on validation R2 score\n",
    "for alpha in alphas:\n",
    "    model = Ridge(alpha=alpha)\n",
    "    model.fit(X_train, y_train)\n",
    "    \n",
    "    # Predict on validation set\n",
    "    y_val_pred = model.predict(X_val)\n",
    "    r2 = r2_score(y_val, y_val_pred)\n",
    "    \n",
    "    print(f\"Alpha: {alpha}, Validation R2: {r2}\")\n",
    "    \n",
    "    if r2 > best_r2:\n",
    "        best_r2 = r2\n",
    "        best_alpha = alpha\n",
    "        best_model = model\n",
    "\n",
    "print(f\"Best alpha: {best_alpha}, Best Validation R2: {best_r2}\")\n"
   ]
  },
  {
   "cell_type": "markdown",
   "id": "e2a0a4ba-ea2c-49fb-9130-dcc3d667c3d4",
   "metadata": {},
   "source": [
    "**Final Evaluation on Test Set**"
   ]
  },
  {
   "cell_type": "code",
   "execution_count": 8,
   "id": "bc32488c-4b79-409f-aadc-276612310378",
   "metadata": {},
   "outputs": [
    {
     "name": "stdout",
     "output_type": "stream",
     "text": [
      "Test R2: 0.9195878238783718\n"
     ]
    }
   ],
   "source": [
    "# Evaluate the best model on the test set\n",
    "y_test_pred = best_model.predict(X_test)\n",
    "test_r2 = r2_score(y_test, y_test_pred)\n",
    "print(f\"Test R2: {test_r2}\")\n"
   ]
  },
  {
   "cell_type": "markdown",
   "id": "0ef00529-5bbe-48c1-bdc4-602b153e1c3a",
   "metadata": {},
   "source": [
    "**Get the Coefficients and Intercept**"
   ]
  },
  {
   "cell_type": "code",
   "execution_count": 11,
   "id": "b15c4205-cc0e-48a8-bd66-4a828fff0dbc",
   "metadata": {},
   "outputs": [
    {
     "name": "stdout",
     "output_type": "stream",
     "text": [
      "Intercept: 75.66264562792125\n",
      "Coefficients: [-5.98420732e+01 -5.71757597e-02  3.68815093e-02 -4.70270549e-02\n",
      "  4.16220875e+00 -1.80745763e-02  2.01603359e+01  2.44157390e-01]\n"
     ]
    }
   ],
   "source": [
    "print(\"Intercept:\", best_model.intercept_)\n",
    "print(\"Coefficients:\", best_model.coef_)"
   ]
  },
  {
   "cell_type": "markdown",
   "id": "719a3c13-ba85-4724-aeec-d1cfd94baaf6",
   "metadata": {},
   "source": [
    "**Find Top 5 Features**"
   ]
  },
  {
   "cell_type": "code",
   "execution_count": 14,
   "id": "fbc7cf14-c913-4767-bc79-791caed176d9",
   "metadata": {},
   "outputs": [
    {
     "name": "stdout",
     "output_type": "stream",
     "text": [
      "Top 5 features based on coefficient importance: [2 8 5 7 1]\n"
     ]
    }
   ],
   "source": [
    "import numpy as np\n",
    "\n",
    "# Get feature importance based on absolute coefficient values\n",
    "feature_importance = np.abs(best_model.coef_)\n",
    "top_5_indices = np.argsort(feature_importance)[-5:]\n",
    "\n",
    "print(f\"Top 5 features based on coefficient importance: {top_5_indices + 1}\")  # Adding 1 for X1 to X8 mapping"
   ]
  },
  {
   "cell_type": "markdown",
   "id": "c1696394-49a4-46a2-a872-26218f6615ba",
   "metadata": {},
   "source": [
    "**Retrain Model with Top 5 Features**"
   ]
  },
  {
   "cell_type": "code",
   "execution_count": 17,
   "id": "9a33bf52-e713-4358-8497-7e27b1607a53",
   "metadata": {},
   "outputs": [
    {
     "name": "stdout",
     "output_type": "stream",
     "text": [
      "Test R2 with top 5 features: 0.9071272422771935\n"
     ]
    }
   ],
   "source": [
    "# Select only the top 5 features\n",
    "X_train_top5 = X_train.iloc[:, top_5_indices]\n",
    "X_val_top5 = X_val.iloc[:, top_5_indices]\n",
    "X_test_top5 = X_test.iloc[:, top_5_indices]\n",
    "\n",
    "# Train Ridge with top 5 features\n",
    "model_top5 = Ridge(alpha=best_alpha)\n",
    "model_top5.fit(X_train_top5, y_train)\n",
    "\n",
    "# Evaluate on test set\n",
    "y_test_pred_top5 = model_top5.predict(X_test_top5)\n",
    "test_r2_top5 = r2_score(y_test, y_test_pred_top5)\n",
    "print(f\"Test R2 with top 5 features: {test_r2_top5}\")"
   ]
  },
  {
   "cell_type": "markdown",
   "id": "2dc07ddc-4f98-454d-a7ec-6e6ac66dabb2",
   "metadata": {},
   "source": [
    "# **I'm still testing here**"
   ]
  },
  {
   "cell_type": "code",
   "execution_count": 20,
   "id": "2b563ca6-62ab-412c-9df2-3f8b21f460b2",
   "metadata": {},
   "outputs": [
    {
     "name": "stdout",
     "output_type": "stream",
     "text": [
      "Alpha: 0.01, R^2 on validation set: 0.9050\n",
      "Alpha: 0.05, R^2 on validation set: 0.9050\n",
      "Alpha: 0.1, R^2 on validation set: 0.9049\n",
      "Alpha: 0.5, R^2 on validation set: 0.9043\n",
      "Alpha: 1, R^2 on validation set: 0.9037\n",
      "Alpha: 2, R^2 on validation set: 0.9025\n",
      "Alpha: 5, R^2 on validation set: 0.8994\n",
      "Alpha: 10, R^2 on validation set: 0.8951\n",
      "Alpha: 50, R^2 on validation set: 0.8746\n",
      "Alpha: 100, R^2 on validation set: 0.8604\n",
      "Best Alpha: 0.01\n",
      "Test R^2: 0.9196, Test MSE: 0.0784\n"
     ]
    },
    {
     "data": {
      "image/png": "[encoded data removed]",
      "text/plain": [
       "<Figure size 640x480 with 1 Axes>"
      ]
     },
     "metadata": {},
     "output_type": "display_data"
    }
   ],
   "source": [
    "import numpy as np\n",
    "import pandas as pd\n",
    "import matplotlib.pyplot as plt\n",
    "from sklearn.linear_model import Ridge\n",
    "from sklearn.model_selection import train_test_split\n",
    "from sklearn.preprocessing import StandardScaler\n",
    "from sklearn.metrics import r2_score, mean_squared_error\n",
    "\n",
    "# Load the dataset\n",
    "file_path = \"C:\\\\Users\\\\ACDC\\\\Desktop\\\\techem\\\\assignment2\\\\energy+efficiency\\\\ENB2012_data.xlsx\"\n",
    "data = pd.read_excel(file_path)\n",
    "\n",
    "# Define features (X1 to X8) and target (Y1)\n",
    "X = data.iloc[:, 0:8].values\n",
    "y = data.iloc[:, 8].values.reshape(-1, 1)  # Only Y1 (Heating Load)\n",
    "\n",
    "# Split the data\n",
    "X_train, X_temp, y_train, y_temp = train_test_split(X, y, test_size=0.4, random_state=42)\n",
    "X_val, X_test, y_val, y_test = train_test_split(X_temp, y_temp, test_size=0.5, random_state=42)\n",
    "\n",
    "# Normalize the data\n",
    "scalerX = StandardScaler()\n",
    "scalerY = StandardScaler()\n",
    "X_train_scaled = scalerX.fit_transform(X_train)\n",
    "X_val_scaled = scalerX.transform(X_val)\n",
    "X_test_scaled = scalerX.transform(X_test)\n",
    "y_train_scaled = scalerY.fit_transform(y_train)\n",
    "y_val_scaled = scalerY.transform(y_val)\n",
    "y_test_scaled = scalerY.transform(y_test)\n",
    "\n",
    "# Train Ridge regression with multiple alpha values\n",
    "alphas = [0.01, 0.05, 0.1, 0.5, 1, 2, 5, 10, 50, 100]\n",
    "best_alpha = None\n",
    "best_r2 = -np.inf\n",
    "\n",
    "for alpha in alphas:\n",
    "    model = Ridge(alpha=alpha)\n",
    "    model.fit(X_train_scaled, y_train_scaled)\n",
    "    y_val_pred_scaled = model.predict(X_val_scaled)\n",
    "    r2 = r2_score(y_val_scaled, y_val_pred_scaled)\n",
    "    print(f\"Alpha: {alpha}, R^2 on validation set: {r2:.4f}\")\n",
    "    \n",
    "    if r2 > best_r2:\n",
    "        best_r2 = r2\n",
    "        best_alpha = alpha\n",
    "\n",
    "# Evaluate the best model on test data\n",
    "best_model = Ridge(alpha=best_alpha)\n",
    "best_model.fit(X_train_scaled, y_train_scaled)\n",
    "y_test_pred_scaled = best_model.predict(X_test_scaled)\n",
    "test_r2 = r2_score(y_test_scaled, y_test_pred_scaled)\n",
    "test_mse = mean_squared_error(y_test_scaled, y_test_pred_scaled)\n",
    "\n",
    "print(f\"Best Alpha: {best_alpha}\")\n",
    "print(f\"Test R^2: {test_r2:.4f}, Test MSE: {test_mse:.4f}\")\n",
    "\n",
    "# Visualize actual vs predicted on test data\n",
    "y_test_pred = scalerY.inverse_transform(y_test_pred_scaled)\n",
    "y_test_actual = scalerY.inverse_transform(y_test_scaled)\n",
    "plt.scatter(y_test_actual, y_test_pred)\n",
    "plt.plot([min(y_test_actual), max(y_test_actual)], [min(y_test_actual), max(y_test_actual)], 'k--')\n",
    "plt.xlabel('Actual Heating Load')\n",
    "plt.ylabel('Predicted Heating Load')\n",
    "plt.title('Actual vs Predicted Heating Load on Test Data')\n",
    "plt.grid(True)\n",
    "plt.show()\n"
   ]
  },
  {
   "cell_type": "code",
   "execution_count": null,
   "id": "04efab3c-5252-44a8-8b46-00103ec62772",
   "metadata": {},
   "outputs": [],
   "source": []
  }
 ],
 "metadata": {
  "kernelspec": {
   "display_name": "Python 3 (ipykernel)",
   "language": "python",
   "name": "python3"
  },
  "language_info": {
   "codemirror_mode": {
    "name": "ipython",
    "version": 3
   },
   "file_extension": ".py",
   "mimetype": "text/x-python",
   "name": "python",
   "nbconvert_exporter": "python",
   "pygments_lexer": "ipython3",
   "version": "3.12.4"
  }
 },
 "nbformat": 4,
 "nbformat_minor": 5
}
