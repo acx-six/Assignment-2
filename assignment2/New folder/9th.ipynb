{
 "cells": [
  {
   "cell_type": "markdown",
   "id": "2a83b687-343e-4f93-94b9-e60d798406cb",
   "metadata": {},
   "source": [
    "# **Import Libraries**"
   ]
  },
  {
   "cell_type": "code",
   "execution_count": 2,
   "id": "69dd5546-2bfa-4352-953e-94e2b54387b3",
   "metadata": {},
   "outputs": [],
   "source": [
    "import numpy as np\n",
    "import pandas as pd\n",
    "import matplotlib.pyplot as plt\n",
    "from sklearn.linear_model import LinearRegression, Ridge\n",
    "from sklearn.model_selection import train_test_split\n",
    "from sklearn.preprocessing import StandardScaler\n",
    "from sklearn.metrics import mean_squared_error, r2_score"
   ]
  },
  {
   "cell_type": "markdown",
   "id": "f4ec1dab-6088-48b1-a855-0d42daeccbbd",
   "metadata": {},
   "source": [
    "# **Load Dataset**"
   ]
  },
  {
   "cell_type": "code",
   "execution_count": 10,
   "id": "6e0296b4-350f-4f43-94a6-21ca3cc68b10",
   "metadata": {},
   "outputs": [
    {
     "data": {
      "text/html": [
       "<div>\n",
       "<style scoped>\n",
       "    .dataframe tbody tr th:only-of-type {\n",
       "        vertical-align: middle;\n",
       "    }\n",
       "\n",
       "    .dataframe tbody tr th {\n",
       "        vertical-align: top;\n",
       "    }\n",
       "\n",
       "    .dataframe thead th {\n",
       "        text-align: right;\n",
       "    }\n",
       "</style>\n",
       "<table border=\"1\" class=\"dataframe\">\n",
       "  <thead>\n",
       "    <tr style=\"text-align: right;\">\n",
       "      <th></th>\n",
       "      <th>X1</th>\n",
       "      <th>X2</th>\n",
       "      <th>X3</th>\n",
       "      <th>X4</th>\n",
       "      <th>X5</th>\n",
       "      <th>X6</th>\n",
       "      <th>X7</th>\n",
       "      <th>X8</th>\n",
       "      <th>Y1</th>\n",
       "      <th>Y2</th>\n",
       "    </tr>\n",
       "  </thead>\n",
       "  <tbody>\n",
       "    <tr>\n",
       "      <th>0</th>\n",
       "      <td>0.98</td>\n",
       "      <td>514.5</td>\n",
       "      <td>294.0</td>\n",
       "      <td>110.25</td>\n",
       "      <td>7.0</td>\n",
       "      <td>2</td>\n",
       "      <td>0.0</td>\n",
       "      <td>0</td>\n",
       "      <td>15.55</td>\n",
       "      <td>21.33</td>\n",
       "    </tr>\n",
       "    <tr>\n",
       "      <th>1</th>\n",
       "      <td>0.98</td>\n",
       "      <td>514.5</td>\n",
       "      <td>294.0</td>\n",
       "      <td>110.25</td>\n",
       "      <td>7.0</td>\n",
       "      <td>3</td>\n",
       "      <td>0.0</td>\n",
       "      <td>0</td>\n",
       "      <td>15.55</td>\n",
       "      <td>21.33</td>\n",
       "    </tr>\n",
       "    <tr>\n",
       "      <th>2</th>\n",
       "      <td>0.98</td>\n",
       "      <td>514.5</td>\n",
       "      <td>294.0</td>\n",
       "      <td>110.25</td>\n",
       "      <td>7.0</td>\n",
       "      <td>4</td>\n",
       "      <td>0.0</td>\n",
       "      <td>0</td>\n",
       "      <td>15.55</td>\n",
       "      <td>21.33</td>\n",
       "    </tr>\n",
       "    <tr>\n",
       "      <th>3</th>\n",
       "      <td>0.98</td>\n",
       "      <td>514.5</td>\n",
       "      <td>294.0</td>\n",
       "      <td>110.25</td>\n",
       "      <td>7.0</td>\n",
       "      <td>5</td>\n",
       "      <td>0.0</td>\n",
       "      <td>0</td>\n",
       "      <td>15.55</td>\n",
       "      <td>21.33</td>\n",
       "    </tr>\n",
       "    <tr>\n",
       "      <th>4</th>\n",
       "      <td>0.90</td>\n",
       "      <td>563.5</td>\n",
       "      <td>318.5</td>\n",
       "      <td>122.50</td>\n",
       "      <td>7.0</td>\n",
       "      <td>2</td>\n",
       "      <td>0.0</td>\n",
       "      <td>0</td>\n",
       "      <td>20.84</td>\n",
       "      <td>28.28</td>\n",
       "    </tr>\n",
       "  </tbody>\n",
       "</table>\n",
       "</div>"
      ],
      "text/plain": [
       "     X1     X2     X3      X4   X5  X6   X7  X8     Y1     Y2\n",
       "0  0.98  514.5  294.0  110.25  7.0   2  0.0   0  15.55  21.33\n",
       "1  0.98  514.5  294.0  110.25  7.0   3  0.0   0  15.55  21.33\n",
       "2  0.98  514.5  294.0  110.25  7.0   4  0.0   0  15.55  21.33\n",
       "3  0.98  514.5  294.0  110.25  7.0   5  0.0   0  15.55  21.33\n",
       "4  0.90  563.5  318.5  122.50  7.0   2  0.0   0  20.84  28.28"
      ]
     },
     "execution_count": 10,
     "metadata": {},
     "output_type": "execute_result"
    }
   ],
   "source": [
    "# Load the dataset\n",
    "file_path = \"C:\\\\Users\\\\ACDC\\\\Desktop\\\\techem\\\\assignment2\\\\energy+efficiency\\\\ENB2012_data.xlsx\"\n",
    "data = pd.read_excel(file_path)\n",
    "\n",
    "# Display first few rows of the dataset\n",
    "data.head()"
   ]
  },
  {
   "cell_type": "markdown",
   "id": "a63a6fa5-07dd-4e25-a79d-2e4a9d900379",
   "metadata": {},
   "source": [
    "# **Preprocess Data**"
   ]
  },
  {
   "cell_type": "code",
   "execution_count": 12,
   "id": "1d652779-97f8-428a-b125-be7d0e9e8e78",
   "metadata": {},
   "outputs": [
    {
     "name": "stdout",
     "output_type": "stream",
     "text": [
      "X1    0\n",
      "X2    0\n",
      "X3    0\n",
      "X4    0\n",
      "X5    0\n",
      "X6    0\n",
      "X7    0\n",
      "X8    0\n",
      "dtype: int64\n",
      "0\n"
     ]
    }
   ],
   "source": [
    "# Select the features and target variable\n",
    "X = data[['X1', 'X2', 'X3', 'X4', 'X5', 'X6', 'X7', 'X8']]\n",
    "y = data['Y1']  # Heating Load\n",
    "\n",
    "# Check for missing values\n",
    "print(X.isnull().sum())\n",
    "print(y.isnull().sum())\n",
    "\n",
    "# Handle missing values if any (here, we drop rows with missing values)\n",
    "X = X.dropna()\n",
    "y = y.dropna()\n",
    "\n",
    "# Split the data into 60% training, 20% validation, and 20% testing\n",
    "X_train, X_temp, y_train, y_temp = train_test_split(X, y, test_size=0.4, random_state=42)\n",
    "X_val, X_test, y_val, y_test = train_test_split(X_temp, y_temp, test_size=0.5, random_state=42)\n",
    "\n",
    "# Normalize the features (important for regularized models like Ridge)\n",
    "scalerX = StandardScaler()\n",
    "X_train_scaled = scalerX.fit_transform(X_train)\n",
    "X_val_scaled = scalerX.transform(X_val)\n",
    "X_test_scaled = scalerX.transform(X_test)\n",
    "\n",
    "# Normalize the target variable\n",
    "scalery = StandardScaler()\n",
    "y_train_scaled = scalery.fit_transform(y_train.values.reshape(-1, 1))\n",
    "y_val_scaled = scalery.transform(y_val.values.reshape(-1, 1))\n",
    "y_test_scaled = scalery.transform(y_test.values.reshape(-1, 1))\n"
   ]
  },
  {
   "cell_type": "markdown",
   "id": "d8747a63-3dc6-40c5-8077-32053ccd4a8b",
   "metadata": {},
   "source": [
    "# **Train Multiple Linear Regression (MLR)**"
   ]
  },
  {
   "cell_type": "code",
   "execution_count": 15,
   "id": "2c79188e-78a4-4da5-b874-9cb5c252a015",
   "metadata": {},
   "outputs": [
    {
     "name": "stdout",
     "output_type": "stream",
     "text": [
      "Linear Regression Model Performance (Validation):\n",
      "R²: 0.8750\n",
      "MSE: 0.1325\n"
     ]
    }
   ],
   "source": [
    "# Train a basic Linear Regression model\n",
    "lr_model = LinearRegression()\n",
    "lr_model.fit(X_train_scaled, y_train_scaled)\n",
    "\n",
    "# Predict on the validation set\n",
    "y_val_pred_scaled = lr_model.predict(X_val_scaled)\n",
    "\n",
    "# Evaluate performance on the validation set\n",
    "mse_lr = mean_squared_error(y_val_scaled, y_val_pred_scaled)\n",
    "r2_lr = r2_score(y_val_scaled, y_val_pred_scaled)\n",
    "\n",
    "print(f\"Linear Regression Model Performance (Validation):\")\n",
    "print(f\"R²: {r2_lr:.4f}\")\n",
    "print(f\"MSE: {mse_lr:.4f}\")\n"
   ]
  },
  {
   "cell_type": "markdown",
   "id": "4a47b463-dd0f-4a92-9cc2-6e9edc52e29d",
   "metadata": {},
   "source": [
    "# **Train Ridge Regression Model with Cross-Validation on Regularization Parameter (α)**"
   ]
  },
  {
   "cell_type": "code",
   "execution_count": 19,
   "id": "0c9f0c29-8b60-48fe-a89f-0672d98f5bfc",
   "metadata": {},
   "outputs": [
    {
     "name": "stdout",
     "output_type": "stream",
     "text": [
      "Best Ridge Model (α = 1e-05):\n",
      "R² on Validation Data: 0.9050\n"
     ]
    }
   ],
   "source": [
    "# Experiment with different values of alpha (regularization strength)\n",
    "alphas = np.logspace(-5, 5, 10)  # 10 values ranging from 10^-5 to 10^5\n",
    "best_alpha = None\n",
    "best_r2 = -np.inf\n",
    "best_model_ridge = None\n",
    "\n",
    "for alpha in alphas:\n",
    "    ridge_model = Ridge(alpha=alpha)\n",
    "    ridge_model.fit(X_train_scaled, y_train_scaled)\n",
    "    y_val_pred_ridge_scaled = ridge_model.predict(X_val_scaled)\n",
    "    r2 = r2_score(y_val_scaled, y_val_pred_ridge_scaled)\n",
    "    \n",
    "    if r2 > best_r2:\n",
    "        best_r2 = r2\n",
    "        best_alpha = alpha\n",
    "        best_model_ridge = ridge_model\n",
    "\n",
    "# Evaluate the best Ridge model\n",
    "print(f\"Best Ridge Model (α = {best_alpha}):\")\n",
    "print(f\"R² on Validation Data: {best_r2:.4f}\")\n"
   ]
  },
  {
   "cell_type": "markdown",
   "id": "73bf897f-ef96-4bca-90f8-0c3d7fcfd024",
   "metadata": {},
   "source": [
    "# **Final Model Evaluation on Test Data**"
   ]
  },
  {
   "cell_type": "code",
   "execution_count": 24,
   "id": "8b46f1f9-2380-4ccf-a62e-509fca01b42a",
   "metadata": {},
   "outputs": [
    {
     "name": "stdout",
     "output_type": "stream",
     "text": [
      "Final Evaluation on Test Data (Ridge Model):\n",
      "R²: 0.9196\n",
      "MSE: 0.0784\n"
     ]
    },
    {
     "data": {
      "image/png": "[encoded data removed]",
      "text/plain": [
       "<Figure size 640x480 with 1 Axes>"
      ]
     },
     "metadata": {},
     "output_type": "display_data"
    }
   ],
   "source": [
    "# Predict on the test set using the best Ridge model\n",
    "y_test_pred_scaled = best_model_ridge.predict(X_test_scaled)\n",
    "\n",
    "# Evaluate on the test set\n",
    "mse_test = mean_squared_error(y_test_scaled, y_test_pred_scaled)\n",
    "r2_test = r2_score(y_test_scaled, y_test_pred_scaled)\n",
    "\n",
    "# Transform predictions back to the original scale\n",
    "y_test_pred = scalery.inverse_transform(y_test_pred_scaled)\n",
    "y_test_actual = scalery.inverse_transform(y_test_scaled)\n",
    "\n",
    "print(f\"Final Evaluation on Test Data (Ridge Model):\")\n",
    "print(f\"R²: {r2_test:.4f}\")\n",
    "print(f\"MSE: {mse_test:.4f}\")\n",
    "\n",
    "# Ensure y_test_actual and y_test_pred are 1D\n",
    "y_test_actual = y_test_actual.flatten()\n",
    "y_test_pred = y_test_pred.flatten()\n",
    "\n",
    "# Plot Actual vs Predicted values for the test data\n",
    "plt.scatter(y_test_actual, y_test_pred)\n",
    "plt.plot([0, max(y_test_actual)], [0, max(y_test_actual)], 'k--', lw=2)\n",
    "plt.xlabel('Actual Heating Load')\n",
    "plt.ylabel('Predicted Heating Load')\n",
    "plt.title('Ridge Regression: Actual vs Predicted Heating Load')\n",
    "plt.grid(True)\n",
    "plt.show()\n",
    "\n"
   ]
  },
  {
   "cell_type": "code",
   "execution_count": null,
   "id": "a56403e5-2059-4fab-98b9-103d0bcbaba1",
   "metadata": {},
   "outputs": [],
   "source": []
  }
 ],
 "metadata": {
  "kernelspec": {
   "display_name": "Python 3 (ipykernel)",
   "language": "python",
   "name": "python3"
  },
  "language_info": {
   "codemirror_mode": {
    "name": "ipython",
    "version": 3
   },
   "file_extension": ".py",
   "mimetype": "text/x-python",
   "name": "python",
   "nbconvert_exporter": "python",
   "pygments_lexer": "ipython3",
   "version": "3.12.4"
  }
 },
 "nbformat": 4,
 "nbformat_minor": 5
}
