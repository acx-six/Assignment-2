{
 "cells": [
  {
   "cell_type": "code",
   "execution_count": 1,
   "id": "afef761d-3c72-433d-8c27-5642051aa747",
   "metadata": {},
   "outputs": [],
   "source": [
    "import pandas as pd\n",
    "from sklearn.model_selection import train_test_split\n",
    "from sklearn.preprocessing import StandardScaler\n",
    "\n",
    "# Load the dataset\n",
    "file_path = \"C:\\\\Users\\\\ACDC\\\\Desktop\\\\techem\\\\assignment2\\\\energy+efficiency\\\\ENB2012_data.xlsx\"\n",
    "data = pd.read_excel(file_path)\n",
    "\n",
    "# Rename columns for easier access\n",
    "data.columns = ['Relative_Compactness', 'Surface_Area', 'Wall_Area', 'Roof_Area', 'Overall_Height', \n",
    "                'Orientation', 'Glazing_Area', 'Glazing_Area_Distribution', 'Heating_Load', 'Cooling_Load']\n",
    "\n",
    "# Features and target\n",
    "X = data.iloc[:, :-2]  # All columns except the last two\n",
    "y = data['Heating_Load']  # Target variable\n",
    "\n",
    "# Split the data\n",
    "X_train, X_temp, y_train, y_temp = train_test_split(X, y, test_size=0.4, random_state=42)\n",
    "X_val, X_test, y_val, y_test = train_test_split(X_temp, y_temp, test_size=0.5, random_state=42)\n",
    "\n",
    "# Normalize the data\n",
    "scaler = StandardScaler()\n",
    "X_train = scaler.fit_transform(X_train)\n",
    "X_val = scaler.transform(X_val)\n",
    "X_test = scaler.transform(X_test)\n"
   ]
  },
  {
   "cell_type": "code",
   "execution_count": 9,
   "id": "49a900e7-9a96-4c09-83ff-a229b599ffe7",
   "metadata": {},
   "outputs": [
    {
     "name": "stdout",
     "output_type": "stream",
     "text": [
      "Best alpha: 0.001\n",
      "Best R² on validation set: 0.9050265244755583\n"
     ]
    }
   ],
   "source": [
    "from sklearn.linear_model import Ridge\n",
    "from sklearn.metrics import r2_score, mean_squared_error\n",
    "\n",
    "# Define regularization parameters\n",
    "alphas = [0.001,0.01,0.1, 1, 10, 100, 200, 300, 400, 500, 600, 700]\n",
    "\n",
    "best_alpha = None\n",
    "best_r2 = -float('inf')\n",
    "best_model = None\n",
    "\n",
    "# Train Ridge Regression models with different alphas\n",
    "for alpha in alphas:\n",
    "    model = Ridge(alpha=alpha)\n",
    "    model.fit(X_train, y_train)\n",
    "    y_val_pred = model.predict(X_val)\n",
    "    r2 = r2_score(y_val, y_val_pred)\n",
    "    \n",
    "    if r2 > best_r2:\n",
    "        best_r2 = r2\n",
    "        best_alpha = alpha\n",
    "        best_model = model\n",
    "\n",
    "print(f'Best alpha: {best_alpha}')\n",
    "print(f'Best R² on validation set: {best_r2}')\n"
   ]
  },
  {
   "cell_type": "code",
   "execution_count": 5,
   "id": "93f0e2c5-aeb9-431a-a4a4-d926b0364531",
   "metadata": {},
   "outputs": [
    {
     "name": "stdout",
     "output_type": "stream",
     "text": [
      "R² on test set: 0.9196159466847389\n",
      "Mean Squared Error on test set: 7.899248058517873\n",
      "Coefficients: [-6.12498964 -3.32218905  0.86842943 -3.63565183  7.32739826 -0.01991889\n",
      "  2.70237342  0.37642244]\n",
      "Intercept: 22.079978260869552\n"
     ]
    }
   ],
   "source": [
    "# Evaluate the best model on the test set\n",
    "y_test_pred = best_model.predict(X_test)\n",
    "test_r2 = r2_score(y_test, y_test_pred)\n",
    "test_mse = mean_squared_error(y_test, y_test_pred)\n",
    "\n",
    "print(f'R² on test set: {test_r2}')\n",
    "print(f'Mean Squared Error on test set: {test_mse}')\n",
    "print(f'Coefficients: {best_model.coef_}')\n",
    "print(f'Intercept: {best_model.intercept_}')\n"
   ]
  },
  {
   "cell_type": "code",
   "execution_count": 7,
   "id": "01e782f1-fcc3-4689-894c-1301537a3530",
   "metadata": {},
   "outputs": [
    {
     "name": "stdout",
     "output_type": "stream",
     "text": [
      "R² on test set with top features: 0.9194835828284909\n",
      "Mean Squared Error on test set with top features: 7.912255301762805\n",
      "Coefficients with top features: [ 2.77232889 -1.61237938 -5.42091749 -6.14063946  7.32163951]\n",
      "Intercept with top features: 22.079978260869552\n"
     ]
    }
   ],
   "source": [
    "import numpy as np\n",
    "\n",
    "# Get the top 5 features based on absolute coefficient values\n",
    "top_features_indices = np.argsort(np.abs(best_model.coef_))[-5:]\n",
    "top_features = X.columns[top_features_indices]\n",
    "\n",
    "# Train a new model using only the top 5 features\n",
    "X_train_top = X_train[:, top_features_indices]\n",
    "X_val_top = X_val[:, top_features_indices]\n",
    "X_test_top = X_test[:, top_features_indices]\n",
    "\n",
    "best_model_top = Ridge(alpha=best_alpha)\n",
    "best_model_top.fit(X_train_top, y_train)\n",
    "\n",
    "# Evaluate the new model\n",
    "y_test_pred_top = best_model_top.predict(X_test_top)\n",
    "test_r2_top = r2_score(y_test, y_test_pred_top)\n",
    "test_mse_top = mean_squared_error(y_test, y_test_pred_top)\n",
    "\n",
    "print(f'R² on test set with top features: {test_r2_top}')\n",
    "print(f'Mean Squared Error on test set with top features: {test_mse_top}')\n",
    "print(f'Coefficients with top features: {best_model_top.coef_}')\n",
    "print(f'Intercept with top features: {best_model_top.intercept_}')\n"
   ]
  },
  {
   "cell_type": "code",
   "execution_count": null,
   "id": "b5b90831-6134-48fc-a2c9-dd4fa4a701aa",
   "metadata": {},
   "outputs": [],
   "source": []
  }
 ],
 "metadata": {
  "kernelspec": {
   "display_name": "Python 3 (ipykernel)",
   "language": "python",
   "name": "python3"
  },
  "language_info": {
   "codemirror_mode": {
    "name": "ipython",
    "version": 3
   },
   "file_extension": ".py",
   "mimetype": "text/x-python",
   "name": "python",
   "nbconvert_exporter": "python",
   "pygments_lexer": "ipython3",
   "version": "3.12.4"
  }
 },
 "nbformat": 4,
 "nbformat_minor": 5
}
