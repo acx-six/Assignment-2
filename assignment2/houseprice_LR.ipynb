{
 "cells": [
  {
   "cell_type": "code",
   "execution_count": null,
   "metadata": {
    "id": "kfvGWbeq6GRA"
   },
   "outputs": [],
   "source": [
    "import numpy as np\n",
    "import matplotlib.pyplot as plt\n",
    "from sklearn.linear_model import LinearRegression\n",
    "from sklearn.preprocessing import StandardScaler"
   ]
  },
  {
   "cell_type": "code",
   "execution_count": null,
   "metadata": {
    "colab": {
     "base_uri": "https://localhost:8080/"
    },
    "executionInfo": {
     "elapsed": 407,
     "status": "ok",
     "timestamp": 1728488718448,
     "user": {
      "displayName": "Timothy Amado",
      "userId": "12978978190506401795"
     },
     "user_tz": -480
    },
    "id": "BsQMNAwf6UIO",
    "outputId": "bd73acd6-43d2-4c2f-cf9b-162234343f43"
   },
   "outputs": [
    {
     "name": "stdout",
     "output_type": "stream",
     "text": [
      "[[280.    3.    7.    8.9]\n",
      " [140.    2.    5.    2.3]\n",
      " [225.    2.    6.    7. ]\n",
      " [300.    4.    4.    9.2]\n",
      " [180.    2.    3.    3.4]\n",
      " [195.    2.    5.    5.6]\n",
      " [305.    4.    2.    9.4]\n",
      " [150.    3.    8.    3.8]]\n"
     ]
    }
   ],
   "source": [
    "#Create the dataset based on the given table\n",
    "x = np.array([[280, 3, 7, 8.9],\n",
    "              [140, 2, 5, 2.3],\n",
    "              [225, 2, 6, 7.0],\n",
    "              [300, 4, 4, 9.2],\n",
    "              [180, 2, 3, 3.4],\n",
    "              [195, 2, 5, 5.6],\n",
    "              [305, 4, 2, 9.4],\n",
    "              [150, 3, 8, 3.8]])\n",
    "print(x)"
   ]
  },
  {
   "cell_type": "code",
   "execution_count": null,
   "metadata": {
    "colab": {
     "base_uri": "https://localhost:8080/"
    },
    "executionInfo": {
     "elapsed": 420,
     "status": "ok",
     "timestamp": 1728489395295,
     "user": {
      "displayName": "Timothy Amado",
      "userId": "12978978190506401795"
     },
     "user_tz": -480
    },
    "id": "RRbpDeK86cP9",
    "outputId": "49dec3e5-e98b-470a-fd8f-c429842d841b"
   },
   "outputs": [
    {
     "name": "stdout",
     "output_type": "stream",
     "text": [
      "[[280.]\n",
      " [140.]\n",
      " [225.]\n",
      " [300.]\n",
      " [180.]\n",
      " [195.]\n",
      " [305.]\n",
      " [150.]]\n",
      "[[8.9]\n",
      " [2.3]\n",
      " [7. ]\n",
      " [9.2]\n",
      " [3.4]\n",
      " [5.6]\n",
      " [9.4]\n",
      " [3.8]]\n"
     ]
    }
   ],
   "source": [
    "#Extract Floor Area (X) and House Price (y)\n",
    "X = x[:,0].reshape(-1,1)\n",
    "y = x[:,-1].reshape(-1,1)\n",
    "print(X)\n",
    "print(y)"
   ]
  },
  {
   "cell_type": "code",
   "execution_count": null,
   "metadata": {
    "colab": {
     "base_uri": "https://localhost:8080/"
    },
    "executionInfo": {
     "elapsed": 379,
     "status": "ok",
     "timestamp": 1728489404450,
     "user": {
      "displayName": "Timothy Amado",
      "userId": "12978978190506401795"
     },
     "user_tz": -480
    },
    "id": "S8Fg-k2i6qBt",
    "outputId": "c64fa71a-c339-4b84-9ac1-a7f1ac74014a"
   },
   "outputs": [
    {
     "name": "stdout",
     "output_type": "stream",
     "text": [
      "[[ 0.93757813]\n",
      " [-1.32067457]\n",
      " [ 0.05040743]\n",
      " [ 1.26018566]\n",
      " [-0.67545951]\n",
      " [-0.43350387]\n",
      " [ 1.34083754]\n",
      " [-1.15937081]]\n",
      "[[ 1.01742015]\n",
      " [-1.46960689]\n",
      " [ 0.30145782]\n",
      " [ 1.13046684]\n",
      " [-1.05510238]\n",
      " [-0.22609337]\n",
      " [ 1.20583129]\n",
      " [-0.90437347]]\n"
     ]
    }
   ],
   "source": [
    "#Normalize Data\n",
    "scalerX = StandardScaler()\n",
    "X2 = scalerX.fit_transform(X)\n",
    "scalerY = StandardScaler()\n",
    "y2 = scalerY.fit_transform(y)\n",
    "print(X2)\n",
    "print(y2)"
   ]
  },
  {
   "cell_type": "code",
   "execution_count": null,
   "metadata": {
    "colab": {
     "base_uri": "https://localhost:8080/"
    },
    "executionInfo": {
     "elapsed": 353,
     "status": "ok",
     "timestamp": 1728489090449,
     "user": {
      "displayName": "Timothy Amado",
      "userId": "12978978190506401795"
     },
     "user_tz": -480
    },
    "id": "tvKd9vhJ60I1",
    "outputId": "fcf6cf66-5fe4-4ea2-953b-352510fc7b33"
   },
   "outputs": [
    {
     "name": "stdout",
     "output_type": "stream",
     "text": [
      "Coefficients: \n",
      " [3.04654206e-16] [[0.97632456]]\n",
      "R^2: 0.9532096501635148\n",
      "MSE: 331.01207667242306\n"
     ]
    }
   ],
   "source": [
    "#Fit Linear Regression\n",
    "model = LinearRegression().fit(X2, y2)\n",
    "print(\"Coefficients: \\n\", model.intercept_, model.coef_)\n",
    "r_sq = model.score(X2, y2)\n",
    "print(f\"R^2: {r_sq}\")\n",
    "\n",
    "#Generate prediction based on inputs\n",
    "ypred = model.predict(X2)\n",
    "MSE = ((y - ypred)**2).sum()\n",
    "print(f\"MSE: {MSE}\")"
   ]
  },
  {
   "cell_type": "code",
   "execution_count": null,
   "metadata": {
    "colab": {
     "base_uri": "https://localhost:8080/",
     "height": 450
    },
    "executionInfo": {
     "elapsed": 861,
     "status": "ok",
     "timestamp": 1728491340203,
     "user": {
      "displayName": "Timothy Amado",
      "userId": "12978978190506401795"
     },
     "user_tz": -480
    },
    "id": "7256RFgr7Ubl",
    "outputId": "3efb493d-ddee-45c1-a85e-c37e800199c5"
   },
   "outputs": [
    {
     "data": {
      "image/png": "[encoded data removed]",
      "text/plain": [
       "<Figure size 640x480 with 1 Axes>"
      ]
     },
     "metadata": {},
     "output_type": "display_data"
    }
   ],
   "source": [
    "# Define a range for the line, extending beyond the original data range\n",
    "X_line = np.linspace(50, 400, 100).reshape(-1, 1)\n",
    "\n",
    "# Normalize the extended range using the previously fitted scalerX\n",
    "X_line_normalized = scalerX.transform(X_line)\n",
    "\n",
    "# Predict using the linear model in the normalized space\n",
    "y_line_normalized = model.predict(X_line_normalized)\n",
    "plt.scatter(X2,y2)\n",
    "\n",
    "# Predict using the linear model in the normalized space\n",
    "y_line_normalized = model.predict(X_line_normalized)\n",
    "\n",
    "plt.plot(X_line_normalized, y_line_normalized,color='k')\n",
    "plt.xlabel('Normalized Floor Area')\n",
    "plt.ylabel('Normalized House Prices')\n",
    "plt.grid()\n",
    "plt.show()"
   ]
  },
  {
   "cell_type": "code",
   "execution_count": null,
   "metadata": {
    "colab": {
     "base_uri": "https://localhost:8080/"
    },
    "executionInfo": {
     "elapsed": 383,
     "status": "ok",
     "timestamp": 1728490076826,
     "user": {
      "displayName": "Timothy Amado",
      "userId": "12978978190506401795"
     },
     "user_tz": -480
    },
    "id": "HrRYWaPc8TS9",
    "outputId": "e4b73799-2201-4d8c-de40-3af9aa37a4e8"
   },
   "outputs": [
    {
     "name": "stdout",
     "output_type": "stream",
     "text": [
      "Original Intercept:  [-3.07279195]\n",
      "Original Coefficients:  [[0.04179287]]\n"
     ]
    }
   ],
   "source": [
    "# Get the coefficients and intercept of the scaled model\n",
    "scaled_intercept = model.intercept_\n",
    "scaled_coefficients = model.coef_\n",
    "\n",
    "# Calculate original coefficients\n",
    "original_coefficients = scaled_coefficients * (scalerY.scale_ / scalerX.scale_)\n",
    "\n",
    "# Calculate the original intercept\n",
    "original_intercept = scalerY.mean_ - np.dot(original_coefficients, scalerX.mean_) + scaled_intercept * scalerY.scale_\n",
    "\n",
    "print(\"Original Intercept: \", original_intercept)\n",
    "print(\"Original Coefficients: \", original_coefficients)"
   ]
  },
  {
   "cell_type": "code",
   "execution_count": null,
   "metadata": {
    "colab": {
     "base_uri": "https://localhost:8080/",
     "height": 449
    },
    "executionInfo": {
     "elapsed": 836,
     "status": "ok",
     "timestamp": 1728491253433,
     "user": {
      "displayName": "Timothy Amado",
      "userId": "12978978190506401795"
     },
     "user_tz": -480
    },
    "id": "fhIXXXOaCxYH",
    "outputId": "b4eb6234-bd2b-4450-b8c3-0ef7e1308973"
   },
   "outputs": [
    {
     "data": {
      "image/png": "[encoded data removed]",
      "text/plain": [
       "<Figure size 640x480 with 1 Axes>"
      ]
     },
     "metadata": {},
     "output_type": "display_data"
    }
   ],
   "source": [
    "# Define a range for the line, extending beyond the original data range\n",
    "X_line = np.linspace(50, 400, 100).reshape(-1, 1)  # Create 100 points from 0 to 450 for plotting\n",
    "\n",
    "# Normalize the extended range using the previously fitted scalerX\n",
    "X_line_normalized = scalerX.transform(X_line)\n",
    "\n",
    "# Predict using the linear model in the normalized space\n",
    "y_line_normalized = model.predict(X_line_normalized)\n",
    "\n",
    "# Transform the predicted values back to the original space\n",
    "y_line_original = scalerY.inverse_transform(y_line_normalized)\n",
    "\n",
    "# Plot original data and fitted line\n",
    "plt.scatter(X_original, y_original)\n",
    "plt.plot(X_line, y_line_original, color = 'k')\n",
    "plt.xlabel(\"Actual Floor Area (m²)\")\n",
    "plt.ylabel(\"Actual House Price (PHP Millions)\")\n",
    "plt.ylim(-3, 16)\n",
    "plt.xlim(-3, 450)\n",
    "plt.grid()\n",
    "plt.show()\n"
   ]
  },
  {
   "cell_type": "code",
   "execution_count": null,
   "metadata": {
    "id": "idPAFzw1ElNn"
   },
   "outputs": [],
   "source": []
  }
 ],
 "metadata": {
  "colab": {
   "authorship_tag": "ABX9TyMKBZ0w1CXtTzlViqSDgd5k",
   "provenance": []
  },
  "kernelspec": {
   "display_name": "Python 3 (ipykernel)",
   "language": "python",
   "name": "python3"
  },
  "language_info": {
   "codemirror_mode": {
    "name": "ipython",
    "version": 3
   },
   "file_extension": ".py",
   "mimetype": "text/x-python",
   "name": "python",
   "nbconvert_exporter": "python",
   "pygments_lexer": "ipython3",
   "version": "3.12.4"
  }
 },
 "nbformat": 4,
 "nbformat_minor": 4
}
